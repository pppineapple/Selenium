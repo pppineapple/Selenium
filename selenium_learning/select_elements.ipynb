{
 "cells": [
  {
   "cell_type": "code",
   "execution_count": 1,
   "metadata": {
    "collapsed": true
   },
   "outputs": [],
   "source": [
    "from selenium import webdriver\n",
    "import time"
   ]
  },
  {
   "cell_type": "code",
   "execution_count": 4,
   "metadata": {},
   "outputs": [],
   "source": [
    "webdriver_path = '/Users/pineapple/Python_Project/selenium_learning/chromedriver'\n",
    "wd = webdriver.Chrome(webdriver_path)\n",
    "wd.get('http://www.baidu.com')"
   ]
  },
  {
   "cell_type": "heading",
   "metadata": {},
   "level": 4,
   "source": [
    "Get something from text of element"
   ]
  },
  {
   "cell_type": "code",
   "execution_count": 5,
   "metadata": {},
   "outputs": [],
   "source": [
    "element = wd.find_element_by_id('cp')\n",
    "print(element.text)"
   ]
  },
  {
   "cell_type": "heading",
   "metadata": {},
   "level": 4,
   "source": [
    "注：若元素的文本内容没有完整展示在界面上，这时用text来获取元素的文本内容，会有问题。\n",
    "此时可以通过innerText或者textContent获取元素的文本内容"
   ]
  },
  {
   "cell_type": "heading",
   "metadata": {},
   "level": 4,
   "source": [
    "Tap something into input box"
   ]
  },
  {
   "cell_type": "code",
   "execution_count": 6,
   "metadata": {},
   "outputs": [],
   "source": [
    "wd.find_element_by_id('kw').send_keys('selenium')"
   ]
  },
  {
   "cell_type": "heading",
   "metadata": {},
   "level": 4,
   "source": [
    "Click element"
   ]
  },
  {
   "cell_type": "code",
   "execution_count": 7,
   "metadata": {},
   "outputs": [],
   "source": [
    "wd.find_element_by_id('su').click()"
   ]
  },
  {
   "cell_type": "heading",
   "metadata": {},
   "level": 4,
   "source": [
    "Get attribute of element"
   ]
  },
  {
   "cell_type": "code",
   "execution_count": 9,
   "metadata": {},
   "outputs": [
    {
     "name": "stdout",
     "output_type": "stream",
     "text": [
      "1599\n"
     ]
    }
   ],
   "source": [
    "first_query_element = wd.find_element_by_id('1')\n",
    "first_query_element_srcid = first_query_element.get_attribute('srcid')\n",
    "print(first_query_element_srcid)"
   ]
  },
  {
   "cell_type": "code",
   "execution_count": null,
   "metadata": {},
   "outputs": [],
   "source": [
    "获取整个元素对应的HTML内容"
   ]
  },
  {
   "cell_type": "code",
   "execution_count": 10,
   "metadata": {},
   "outputs": [
    {
     "name": "stdout",
     "output_type": "stream",
     "text": [
      "<div class=\"result c-container \" id=\"1\" srcid=\"1599\" tpl=\"se_com_default\" data-click=\"{&quot;rsv_bdr&quot;:&quot;0&quot;,&quot;p5&quot;:1}\"><h3 class=\"t c-title-en\"><a data-click=\"{\n\t\t\t'F':'778317EA',\n\t\t\t'F1':'9D73F1E4',\n\t\t\t'F2':'4CA6DE6E',\n\t\t\t'F3':'54E5263F',\n\t\t\t'T':'1578124023',\n\t\t\t\t\t\t'y':'FBEBEBF5'\n\t\t\t\t\t\t\t\t\t\t\t\t}\" href=\"http://www.baidu.com/link?url=o7hupF6ttzUyNl6Sw5WLyqULvO66893XL3yB2GN40quLmuDhrfT6kr74o5Lu_0eR\" target=\"_blank\"><em>Selenium</em> automates browsers. That's it!</a></h3><div class=\"m\">查看此网页的中文翻译，请点击&nbsp;<a href=\"http://www.baidu.com/link?url=oawRq8KPh7ZEIx55HZKcalSD3qiCiwwHQwzSHmtJ-jLgCpQR27Qi-r7GMqEaQQO978eznIjYbLmV1DP9rw4AJ6S95r8A8xhQqGa7ZszOU6jSULiwQAQ7BslwU9oIALces0mvMVn4wqm-k5IOEeU_-XNipsdrqZBo59sN4H1RcRRHuno2tnvTpL8lPJBc41_R\" target=\"_blank\" class=\"m\">翻译此页</a></div><div class=\"c-abstract c-abstract-en\">scale and distribute scripts across many environments, then you want to use <em>Selenium</em> WebDriver, a collection of language specific bindings to drive a browse...</div><div class=\"f13\"><a target=\"_blank\" href=\"http://www.baidu.com/link?url=o7hupF6ttzUyNl6Sw5WLyqULvO66893XL3yB2GN40quLmuDhrfT6kr74o5Lu_0eR\" class=\"c-showurl\" style=\"text-decoration:none;\">www.<b>selenium</b>hq.org/&nbsp;</a><div class=\"c-tools\" id=\"tools_12532650080561048673_1\" data-tools=\"{&quot;title&quot;:&quot;Selenium automates browsers. That\\'s it!&quot;,&quot;url&quot;:&quot;http://www.baidu.com/link?url=o7hupF6ttzUyNl6Sw5WLyqULvO66893XL3yB2GN40quLmuDhrfT6kr74o5Lu_0eR&quot;}\"><a class=\"c-tip-icon\"><i class=\"c-icon c-icon-triangle-down-g\"></i></a></div><span class=\"c-icons-outer\"><span class=\"c-icons-inner\"></span></span>&nbsp;-&nbsp;<a data-click=\"{'rsv_snapshot':'1'}\" href=\"http://cache.baiducontent.com/c?m=9d78d513d98216f10fb1cf3952029026475bda257a95c7140cc98e0dd6214c413027b4e5707e4b438c9f3f7001d8141cbfed&amp;p=c2769a47c59d1ff608e2933f45&amp;newp=8b2a971f90934ea806a7c5641753d8224216ed643ad6c44324b9d71fd325001c1b69e7be22261704d4c27c6301ad4856e1f33278341766dada9fca458ae7c47269&amp;user=baidu&amp;fm=sc&amp;query=selenium&amp;qid=febc88f50000b11c&amp;p1=1\" target=\"_blank\" class=\"m\">百度快照</a></div></div>\n"
     ]
    }
   ],
   "source": [
    "first_query_element_html = first_query_element.get_attribute('outerHTML')\n",
    "print(first_query_element_html)"
   ]
  },
  {
   "cell_type": "heading",
   "metadata": {},
   "level": 4,
   "source": [
    "获取某个元素内部的HTML内容"
   ]
  },
  {
   "cell_type": "code",
   "execution_count": 11,
   "metadata": {},
   "outputs": [
    {
     "name": "stdout",
     "output_type": "stream",
     "text": [
      "<h3 class=\"t c-title-en\"><a data-click=\"{\n\t\t\t'F':'778317EA',\n\t\t\t'F1':'9D73F1E4',\n\t\t\t'F2':'4CA6DE6E',\n\t\t\t'F3':'54E5263F',\n\t\t\t'T':'1578124023',\n\t\t\t\t\t\t'y':'FBEBEBF5'\n\t\t\t\t\t\t\t\t\t\t\t\t}\" href=\"http://www.baidu.com/link?url=o7hupF6ttzUyNl6Sw5WLyqULvO66893XL3yB2GN40quLmuDhrfT6kr74o5Lu_0eR\" target=\"_blank\"><em>Selenium</em> automates browsers. That's it!</a></h3><div class=\"m\">查看此网页的中文翻译，请点击&nbsp;<a href=\"http://www.baidu.com/link?url=oawRq8KPh7ZEIx55HZKcalSD3qiCiwwHQwzSHmtJ-jLgCpQR27Qi-r7GMqEaQQO978eznIjYbLmV1DP9rw4AJ6S95r8A8xhQqGa7ZszOU6jSULiwQAQ7BslwU9oIALces0mvMVn4wqm-k5IOEeU_-XNipsdrqZBo59sN4H1RcRRHuno2tnvTpL8lPJBc41_R\" target=\"_blank\" class=\"m\">翻译此页</a></div><div class=\"c-abstract c-abstract-en\">scale and distribute scripts across many environments, then you want to use <em>Selenium</em> WebDriver, a collection of language specific bindings to drive a browse...</div><div class=\"f13\"><a target=\"_blank\" href=\"http://www.baidu.com/link?url=o7hupF6ttzUyNl6Sw5WLyqULvO66893XL3yB2GN40quLmuDhrfT6kr74o5Lu_0eR\" class=\"c-showurl\" style=\"text-decoration:none;\">www.<b>selenium</b>hq.org/&nbsp;</a><div class=\"c-tools\" id=\"tools_12532650080561048673_1\" data-tools=\"{&quot;title&quot;:&quot;Selenium automates browsers. That\\'s it!&quot;,&quot;url&quot;:&quot;http://www.baidu.com/link?url=o7hupF6ttzUyNl6Sw5WLyqULvO66893XL3yB2GN40quLmuDhrfT6kr74o5Lu_0eR&quot;}\"><a class=\"c-tip-icon\"><i class=\"c-icon c-icon-triangle-down-g\"></i></a></div><span class=\"c-icons-outer\"><span class=\"c-icons-inner\"></span></span>&nbsp;-&nbsp;<a data-click=\"{'rsv_snapshot':'1'}\" href=\"http://cache.baiducontent.com/c?m=9d78d513d98216f10fb1cf3952029026475bda257a95c7140cc98e0dd6214c413027b4e5707e4b438c9f3f7001d8141cbfed&amp;p=c2769a47c59d1ff608e2933f45&amp;newp=8b2a971f90934ea806a7c5641753d8224216ed643ad6c44324b9d71fd325001c1b69e7be22261704d4c27c6301ad4856e1f33278341766dada9fca458ae7c47269&amp;user=baidu&amp;fm=sc&amp;query=selenium&amp;qid=febc88f50000b11c&amp;p1=1\" target=\"_blank\" class=\"m\">百度快照</a></div>\n"
     ]
    }
   ],
   "source": [
    "first_query_element_innerhtml = first_query_element.get_attribute('innerHTML')\n",
    "print(first_query_element_innerhtml)"
   ]
  },
  {
   "cell_type": "heading",
   "metadata": {},
   "level": 4,
   "source": [
    "获取输入框中的文字"
   ]
  },
  {
   "cell_type": "code",
   "execution_count": 15,
   "metadata": {},
   "outputs": [
    {
     "name": "stdout",
     "output_type": "stream",
     "text": [
      "selenium\n"
     ]
    }
   ],
   "source": [
    "input_box_element = wd.find_element_by_id('kw')\n",
    "input_box_element_text = input_box_element.get_attribute('value')\n",
    "print(input_box_element_text)\n",
    "wd.close()"
   ]
  },
  {
   "cell_type": "heading",
   "metadata": {},
   "level": 2,
   "source": [
    "CSS表达式选择器"
   ]
  },
  {
   "cell_type": "code",
   "execution_count": 27,
   "metadata": {},
   "outputs": [],
   "source": [
    "webdriver_path = '/Users/pineapple/Python_Project/selenium_learning/chromedriver'\n",
    "wd = webdriver.Chrome(webdriver_path)\n",
    "wd.get('http://f.python3.vip/webauto/sample1.html')"
   ]
  },
  {
   "cell_type": "heading",
   "metadata": {},
   "level": 4,
   "source": [
    "使用CSS表达式根据class查找元素，与前面的区别在于在class名称前面加.,例如\".anilmal\""
   ]
  },
  {
   "cell_type": "code",
   "execution_count": 28,
   "metadata": {},
   "outputs": [
    {
     "name": "stdout",
     "output_type": "stream",
     "text": [
      "<div class=\"animal\"><span>狮子</span></div>\n<div class=\"animal\"><span>老虎</span></div>\n<div class=\"animal\"><span>山羊</span></div>\n"
     ]
    }
   ],
   "source": [
    "elements = wd.find_elements_by_css_selector('.animal')\n",
    "for element in elements:\n",
    "    print(element.get_attribute('outerHTML'))"
   ]
  },
  {
   "cell_type": "heading",
   "metadata": {},
   "level": 4,
   "source": [
    "使用CSS表达式根据tag查找元素wd.find_elemnets_by_css_selector('div') 等价于 wd.find_elements_by_tag_name('div')"
   ]
  },
  {
   "cell_type": "code",
   "execution_count": 37,
   "metadata": {},
   "outputs": [
    {
     "name": "stdout",
     "output_type": "stream",
     "text": [
      "土豆\n洋葱\n白菜\n狮子\n老虎\n山羊\n内层11\n内层12\n内层21\n版权\n发布日期：2018-03-03\n备案号\n                    <a href=\"http://www.miitbeian.gov.cn\">苏ICP备88885574号</a>\n                \n"
     ]
    }
   ],
   "source": [
    "elements = wd.find_elements_by_tag_name('span')\n",
    "for element in elements:\n",
    "    print(element.get_attribute('innerHTML'))"
   ]
  },
  {
   "cell_type": "heading",
   "metadata": {},
   "level": 4,
   "source": [
    "注：css选择器也可以通过id来查找元素，与之前的区别在于要在id前加#"
   ]
  },
  {
   "cell_type": "code",
   "execution_count": 45,
   "metadata": {},
   "outputs": [
    {
     "name": "stdout",
     "output_type": "stream",
     "text": [
      "<input type=\"text\" id=\"searchtext\">\n"
     ]
    }
   ],
   "source": [
    "searchtext_elements = wd.find_elements_by_css_selector('#searchtext')\n",
    "for s_element in searchtext_elements:\n",
    "    print(s_element.get_attribute('outerHTML'))"
   ]
  },
  {
   "cell_type": "heading",
   "metadata": {},
   "level": 4,
   "source": [
    "选择子元素和后代元素，HTML中，元素内部可以包含其他元素。\n",
    "只有一层包含关系的：被包含元素是包含元素的子元素.\n",
    "例如：元素A > 元素B 表示元素B是元素A的子元素\n",
    "有多层包含关系的： 超过一层后，被包含元素是包含元素的后代元素。\n",
    "例如：元素A > 元素B > 元素C 表示元素B是元素A的子元素；表示元素是元素B的子元素；元素C是元素A的后代元素"
   ]
  },
  {
   "cell_type": "heading",
   "metadata": {},
   "level": 4,
   "source": [
    "同理，在CSS选择器的语法中：\n",
    "元素1 > 元素2：表示选择元素1的子元素元素2\n",
    "元素1 > 元素2 > 元素3 > 元素4：表示选择元素1的子元素元素2的子元素元素3的子元素元素4\n",
    "这里的\">\"只能用于子元素的选取，如果元素3是元素1的后代元素，我们要选取元素1的后代元素元素3，则是通过添加空格符号实现：\"元素1 元素3\"，同样这种方式也支持多层级选择。"
   ]
  },
  {
   "cell_type": "code",
   "execution_count": 49,
   "metadata": {},
   "outputs": [
    {
     "name": "stdout",
     "output_type": "stream",
     "text": [
      "<span>内层11</span>\n"
     ]
    }
   ],
   "source": [
    "elements = wd.find_elements_by_css_selector('#container #inner11 > span')\n",
    "for element in elements:\n",
    "    print(element.get_attribute('outerHTML'))"
   ]
  },
  {
   "cell_type": "heading",
   "metadata": {},
   "level": 4,
   "source": [
    "使用CSS选择器根据其他属性选择元素，就是通过\"[]\"来实现，如果是选择指定属性值，可以直接用\"[attribute=value]\"实现，例如：[href=\"http://www.miitbeian.gov.cn\"]。如果只是[href]则会选中所有包含href属性的元素。"
   ]
  },
  {
   "cell_type": "code",
   "execution_count": 50,
   "metadata": {},
   "outputs": [
    {
     "name": "stdout",
     "output_type": "stream",
     "text": [
      "<a href=\"http://www.miitbeian.gov.cn\">苏ICP备88885574号</a>\n"
     ]
    }
   ],
   "source": [
    "elements = wd.find_elements_by_css_selector('[href=\"http://www.miitbeian.gov.cn\"]')\n",
    "for element in elements:\n",
    "    print(element.get_attribute('outerHTML'))\n",
    "wd.close()"
   ]
  },
  {
   "cell_type": "heading",
   "metadata": {},
   "level": 4,
   "source": [
    "注：可以把[href=\"http://www.miitbeian.gov.cn\"]和前面提到的子元素后代元素层级关系搭配起来使用。\n",
    "例如\"div[href=\"http://www.miitbeian.gov.cn\"]\"表示选择tag为div、并且属性中具有href=\"http://www.miitbeian.gov.cn\"的元素；\n",
    "\".animal > [href=\"http://www.miitbeian.gov.cn\"]\"表示选择类别为animal的元素的子元素中具有属性href=\"http://www.miitbeian.gov.cn\"的元素。"
   ]
  },
  {
   "cell_type": "heading",
   "metadata": {},
   "level": 4,
   "source": [
    "CSS选择器中的或：','\n",
    "例如选择class=plant或class=animal的元素的后代元素，可以用\".plant , .animal\"\n",
    "例如选择class=plant或id=search的元素的后代元素，可以用\".plant , #search\""
   ]
  },
  {
   "cell_type": "heading",
   "metadata": {},
   "level": 3,
   "source": [
    "CSS选择器安装次序选择子节点元素"
   ]
  },
  {
   "cell_type": "heading",
   "metadata": {},
   "level": 4,
   "source": [
    "1. 父元素的第n个子节点：nth-child"
   ]
  },
  {
   "cell_type": "code",
   "execution_count": 53,
   "metadata": {},
   "outputs": [
    {
     "name": "stdout",
     "output_type": "stream",
     "text": [
      "李白\n辛弃疾\n"
     ]
    }
   ],
   "source": [
    "webdriver_path = '/Users/pineapple/Python_Project/selenium_learning/chromedriver'\n",
    "wd = webdriver.Chrome(webdriver_path)\n",
    "wd.get('http://f.python3.vip/webauto/sample1a.html')\n",
    "elements = wd.find_elements_by_css_selector('div > span:nth-child(2)')\n",
    "for element in elements:\n",
    "    print(element.text)\n",
    "wd.close()"
   ]
  },
  {
   "cell_type": "heading",
   "metadata": {},
   "level": 4,
   "source": [
    "2. 父元素的倒数第n个子节点：nth-last-child\n",
    "例如获取唐诗和宋词的最后一个作者"
   ]
  },
  {
   "cell_type": "code",
   "execution_count": 54,
   "metadata": {},
   "outputs": [
    {
     "name": "stdout",
     "output_type": "stream",
     "text": [
      "春夜喜雨\n北固亭怀古\n"
     ]
    }
   ],
   "source": [
    "webdriver_path = '/Users/pineapple/Python_Project/selenium_learning/chromedriver'\n",
    "wd = webdriver.Chrome(webdriver_path)\n",
    "wd.get('http://f.python3.vip/webauto/sample1a.html')\n",
    "elements = wd.find_elements_by_css_selector('div > p:nth-last-child(1)')\n",
    "for element in elements:\n",
    "    print(element.text)\n",
    "wd.close()"
   ]
  },
  {
   "cell_type": "heading",
   "metadata": {},
   "level": 4,
   "source": [
    "3. 父元素的第几个某类型子节点：nth-of-type\n",
    "例如获取唐诗和宋词的第一个作者"
   ]
  },
  {
   "cell_type": "code",
   "execution_count": 56,
   "metadata": {},
   "outputs": [
    {
     "name": "stdout",
     "output_type": "stream",
     "text": [
      "李白\n辛弃疾\n"
     ]
    }
   ],
   "source": [
    "webdriver_path = '/Users/pineapple/Python_Project/selenium_learning/chromedriver'\n",
    "wd = webdriver.Chrome(webdriver_path)\n",
    "wd.get('http://f.python3.vip/webauto/sample1a.html')\n",
    "elements = wd.find_elements_by_css_selector('div > span:nth-of-type(1)')\n",
    "for element in elements:\n",
    "    print(element.text)\n",
    "wd.close()"
   ]
  },
  {
   "cell_type": "heading",
   "metadata": {},
   "level": 4,
   "source": [
    "7. 相邻兄弟节点\n",
    "相邻兄弟节点，指相邻的同级节点，例如\n",
    "<span>李白</span>\n",
    "<p>静夜思</p>\n",
    "此时选取条件：紧跟span后面的p可以通过\"span + p\"实现"
   ]
  },
  {
   "cell_type": "code",
   "execution_count": 59,
   "metadata": {},
   "outputs": [
    {
     "name": "stdout",
     "output_type": "stream",
     "text": [
      "静夜思\n北固亭怀古\n"
     ]
    }
   ],
   "source": [
    "webdriver_path = '/Users/pineapple/Python_Project/selenium_learning/chromedriver'\n",
    "wd = webdriver.Chrome(webdriver_path)\n",
    "wd.get('http://f.python3.vip/webauto/sample1a.html')\n",
    "elements = wd.find_elements_by_css_selector('div > span:nth-child(2) + p')\n",
    "for element in elements:\n",
    "    print(element.text)\n",
    "wd.close()"
   ]
  },
  {
   "cell_type": "heading",
   "metadata": {},
   "level": 4,
   "source": [
    "8. 后续所有兄弟节点：span ~ p"
   ]
  },
  {
   "cell_type": "code",
   "execution_count": 60,
   "metadata": {},
   "outputs": [
    {
     "name": "stdout",
     "output_type": "stream",
     "text": [
      "静夜思\n春夜喜雨\n北固亭怀古\n"
     ]
    }
   ],
   "source": [
    "webdriver_path = '/Users/pineapple/Python_Project/selenium_learning/chromedriver'\n",
    "wd = webdriver.Chrome(webdriver_path)\n",
    "wd.get('http://f.python3.vip/webauto/sample1a.html')\n",
    "elements = wd.find_elements_by_css_selector('div > span:nth-child(2) ~ p')\n",
    "for element in elements:\n",
    "    print(element.text)\n",
    "wd.close()"
   ]
  },
  {
   "cell_type": "code",
   "execution_count": null,
   "metadata": {},
   "outputs": [],
   "source": []
  },
  {
   "cell_type": "heading",
   "metadata": {},
   "level": 4,
   "source": []
  }
 ],
 "metadata": {
  "kernelspec": {
   "display_name": "Python 2",
   "language": "python",
   "name": "python2"
  },
  "language_info": {
   "codemirror_mode": {
    "name": "ipython",
    "version": 2
   },
   "file_extension": ".py",
   "mimetype": "text/x-python",
   "name": "python",
   "nbconvert_exporter": "python",
   "pygments_lexer": "ipython2",
   "version": "2.7.6"
  }
 },
 "nbformat": 4,
 "nbformat_minor": 0
}
